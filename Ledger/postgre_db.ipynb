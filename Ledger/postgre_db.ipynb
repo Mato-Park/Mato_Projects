{
 "cells": [
  {
   "cell_type": "code",
   "execution_count": 1,
   "id": "84a70fea",
   "metadata": {},
   "outputs": [],
   "source": [
    "import psycopg2"
   ]
  },
  {
   "cell_type": "code",
   "execution_count": 2,
   "id": "142818f7",
   "metadata": {},
   "outputs": [],
   "source": [
    "db = psycopg2.connect(host = 'localhost', dbname = 'test', user = 'mato', port = 5432)\n",
    "cursor = db.cursor()"
   ]
  },
  {
   "cell_type": "code",
   "execution_count": 3,
   "id": "facb355c",
   "metadata": {},
   "outputs": [],
   "source": [
    "def postgre_exe(query):\n",
    "    cursor.execute(query)\n",
    "    cursor.execute(\"COMMIT\")"
   ]
  },
  {
   "cell_type": "code",
   "execution_count": 19,
   "id": "ff800f4d",
   "metadata": {},
   "outputs": [],
   "source": [
    "query = \"\"\"CREATE TYPE week AS ENUM ('Mon', 'Tue', 'Wed', 'Thu', 'Fri', 'Sat', 'Sun')\"\"\"\n",
    "cursor.execute(query)\n"
   ]
  },
  {
   "cell_type": "code",
   "execution_count": 20,
   "id": "2b2b1efe",
   "metadata": {},
   "outputs": [],
   "source": [
    "query = \"\"\"CREATE TABLE TRANSACTION (TRANS_ID serial PRIMARY KEY NOT NULL, TRANS_DATE DATE NOT NULL, TRANS_TIME TIME NOT NULL, DAY week NOT NULL,\n",
    "    TYPE INTEGER NOT NULL, CATEGORY INTEGER NOT NULL, AMOUNTS INTEGER NOT NULL, MEMO VARCHAR(25), PLACE VARCHAR(25),\n",
    "    PAYMENTS INTEGER NOT NULL, USER_ID INTEGER NOT NULL);\"\"\"\n",
    "\n",
    "cursor.execute(query)"
   ]
  },
  {
   "cell_type": "code",
   "execution_count": 21,
   "id": "6f27c9fa",
   "metadata": {},
   "outputs": [],
   "source": [
    "cursor.execute(\"COMMIT\")"
   ]
  },
  {
   "cell_type": "code",
   "execution_count": 22,
   "id": "18fa879f",
   "metadata": {},
   "outputs": [],
   "source": [
    "query = \"\"\"CREATE TABLE TYPE (TYPE_ID INTEGER PRIMARY KEY NOT NULL, TYPE_NAME VARCHAR(20) NOT NULL)\"\"\"\n",
    "cursor.execute(query)\n",
    "cursor.execute(\"COMMIT\")"
   ]
  },
  {
   "cell_type": "code",
   "execution_count": 24,
   "id": "bfde0752",
   "metadata": {},
   "outputs": [],
   "source": [
    "query = \"\"\"INSERT INTO TYPE VALUES (1, '수입'), (2, '소비')\"\"\"\n",
    "postgre_exe(query)\n"
   ]
  },
  {
   "cell_type": "code",
   "execution_count": 25,
   "id": "62727473",
   "metadata": {},
   "outputs": [],
   "source": [
    "query = \"\"\"CREATE TABLE CATEGORY (CATEGORY_ID INTEGER PRIMARY KEY NOT NULL, CATEGORY_NAME VARCHAR(20) NOT NULL)\"\"\"\n",
    "postgre_exe(query)"
   ]
  },
  {
   "cell_type": "code",
   "execution_count": 26,
   "id": "c64639c4",
   "metadata": {},
   "outputs": [],
   "source": [
    "query = \"\"\"INSERT INTO CATEGORY VALUES\n",
    "            (1, '식비'), (2, '카페•간식'), (3, '편의점•마트'), (4, '술•유흥'), (5, '쇼핑'), (6, '취미•여가'), (7, '의료•건강'),\n",
    "            (8, '주거•통신'), (9, '보험•세금•기타금융'), (10, '미용'), (11, '교통•자동차'), (12, '여행•숙박'), (13, '교육'),\n",
    "            (14, '생활'), (15, '기부•후원'), (16, '경조사비'), (17, '선물'), (18, '기타'), (19, 'ATM출금'),\n",
    "            (20, '이체'), (21, '급여'), (22, '카드대급'), (23, '저축•투자'), (24, '후불결제대금')\"\"\"\n",
    "postgre_exe(query)"
   ]
  },
  {
   "cell_type": "code",
   "execution_count": 29,
   "id": "28556790",
   "metadata": {},
   "outputs": [],
   "source": [
    "query = \"\"\"CREATE TABLE PAYMENTS \n",
    "            (PAYMENTS_ID serial PRIMARY KEY NOT NULL, PAYMENTS_TYPE VARCHAR(25) NOT NULL, PAYMENTS_NAME VARCHAR(25),\n",
    "            PAYMENTS_MAIN BOOLEAN DEFAULT false, ACCOUNTS_ID INTEGER, REMARKS VARCHAR(25))\"\"\"\n",
    "postgre_exe(query)"
   ]
  },
  {
   "cell_type": "code",
   "execution_count": 34,
   "id": "e73365ab",
   "metadata": {},
   "outputs": [],
   "source": [
    "query = \"\"\"DROP TABLE ACCOUNTS\"\"\"\n",
    "postgre_exe(query)"
   ]
  },
  {
   "cell_type": "code",
   "execution_count": 35,
   "id": "20077af9",
   "metadata": {},
   "outputs": [],
   "source": [
    "query = \"\"\"CREATE TABLE ACCOUNTS\n",
    "            (ACCOUNTS_ID serial PRIMARY KEY NOT NULL, ACCOUNTS_BANK VARCHAR(25) NOT NULL, ACCOUNTS_NO VARCHAR(25) NOT NULL,\n",
    "            ACCOUNTS_NAME VARCHAR(25) NOT NULL, ACCOUNTS_BALANCE INTEGER DEFAULT 0, ACCOUNTS_MAIN BOOLEAN DEFAULT FALSE)\"\"\"\n",
    "postgre_exe(query)"
   ]
  },
  {
   "cell_type": "code",
   "execution_count": 37,
   "id": "fbe785c1",
   "metadata": {},
   "outputs": [],
   "source": [
    "query = \"\"\"INSERT INTO ACCOUNTS (ACCOUNTS_BANK, ACCOUNTS_NO, ACCOUNTS_NAME, ACCOUNTS_MAIN) VALUES\n",
    "            ('신한은행', '110-321-894780', '주거래/급여통장', true), ('토스뱅크', '1000-1287-1132', '보조통장', false)\"\"\"\n",
    "postgre_exe(query)"
   ]
  },
  {
   "cell_type": "code",
   "execution_count": 40,
   "id": "5cd57749",
   "metadata": {},
   "outputs": [],
   "source": [
    "query = \"\"\"INSERT INTO ACCOUNTS (ACCOUNTS_BANK, ACCOUNTS_NO, ACCOUNTS_NAME, ACCOUNTS_MAIN) VALUES\n",
    "            ('신한은행', '110-324-216766', '생활비/교통비통장', false)\"\"\"\n",
    "postgre_exe(query)"
   ]
  },
  {
   "cell_type": "code",
   "execution_count": 44,
   "id": "22a26aa7",
   "metadata": {},
   "outputs": [],
   "source": [
    "query = \"\"\"INSERT INTO PAYMENTS (PAYMENTS_TYPE, PAYMENTS_NAME, PAYMENTS_MAIN, ACCOUNTS_ID)\n",
    "            VALUES ('체크카드', '신한헤이영', true, 1), ('체크카드', '토스', false, 2)\"\"\"\n",
    "postgre_exe(query)"
   ]
  },
  {
   "cell_type": "code",
   "execution_count": 43,
   "id": "56b3a5cf",
   "metadata": {},
   "outputs": [],
   "source": [
    "query = \"\"\"DELETE FROM PAYMENTS\"\"\"\n",
    "postgre_exe(query)"
   ]
  },
  {
   "cell_type": "code",
   "execution_count": 8,
   "id": "437c2250",
   "metadata": {},
   "outputs": [
    {
     "name": "stdout",
     "output_type": "stream",
     "text": [
      "[(1, '수입'), (2, '소비')]\n"
     ]
    }
   ],
   "source": [
    "query = \"\"\"SELECT * FROM TYPE\"\"\"\n",
    "cursor.execute(query)\n",
    "type = cursor.fetchall()\n",
    "print(row)"
   ]
  },
  {
   "cell_type": "code",
   "execution_count": 4,
   "id": "000a4f2c",
   "metadata": {},
   "outputs": [
    {
     "name": "stdout",
     "output_type": "stream",
     "text": [
      "[(1, '식비'), (2, '카페•간식'), (3, '편의점•마트'), (4, '술•유흥'), (5, '쇼핑'), (6, '취미•여가'), (7, '의료•건강'), (8, '주거•통신'), (9, '보험•세금•기타금융'), (10, '미용'), (11, '교통•자동차'), (12, '여행•숙박'), (13, '교육'), (14, '생활'), (15, '기부•후원'), (16, '경조사비'), (17, '선물'), (18, '기타'), (19, 'ATM출금'), (20, '이체'), (21, '급여'), (22, '카드대급'), (23, '저축•투자'), (24, '후불결제대금')]\n"
     ]
    }
   ],
   "source": [
    "query = \"\"\"SELECT * FROM CATEGORY\"\"\"\n",
    "\n",
    "cursor.execute(query)\n",
    "cate_tup = cursor.fetchall()\n",
    "print(cate_tup)"
   ]
  },
  {
   "cell_type": "code",
   "execution_count": 14,
   "id": "3bca38d9",
   "metadata": {
    "collapsed": true
   },
   "outputs": [
    {
     "name": "stdout",
     "output_type": "stream",
     "text": [
      "식비\n",
      "카페•간식\n",
      "편의점•마트\n",
      "술•유흥\n",
      "쇼핑\n",
      "취미•여가\n",
      "의료•건강\n",
      "주거•통신\n",
      "보험•세금•기타금융\n",
      "미용\n",
      "교통•자동차\n",
      "여행•숙박\n",
      "교육\n",
      "생활\n",
      "기부•후원\n",
      "경조사비\n",
      "선물\n",
      "기타\n",
      "ATM출금\n",
      "이체\n",
      "급여\n",
      "카드대급\n",
      "저축•투자\n",
      "후불결제대금\n"
     ]
    }
   ],
   "source": [
    "for i in cate_tup:\n",
    "    print(i[1])"
   ]
  },
  {
   "cell_type": "code",
   "execution_count": 16,
   "id": "b63d8706",
   "metadata": {},
   "outputs": [
    {
     "name": "stdout",
     "output_type": "stream",
     "text": [
      "['식비', '카페•간식', '편의점•마트', '술•유흥', '쇼핑', '취미•여가', '의료•건강', '주거•통신', '보험•세금•기타금융', '미용', '교통•자동차', '여행•숙박', '교육', '생활', '기부•후원', '경조사비', '선물', '기타', 'ATM출금', '이체', '급여', '카드대급', '저축•투자', '후불결제대금']\n"
     ]
    }
   ],
   "source": [
    "print([i[1] for i in cate_tup])"
   ]
  },
  {
   "cell_type": "code",
   "execution_count": 6,
   "id": "fa99f9f9",
   "metadata": {},
   "outputs": [
    {
     "data": {
      "text/plain": [
       "{1: '식비',\n",
       " 2: '카페•간식',\n",
       " 3: '편의점•마트',\n",
       " 4: '술•유흥',\n",
       " 5: '쇼핑',\n",
       " 6: '취미•여가',\n",
       " 7: '의료•건강',\n",
       " 8: '주거•통신',\n",
       " 9: '보험•세금•기타금융',\n",
       " 10: '미용',\n",
       " 11: '교통•자동차',\n",
       " 12: '여행•숙박',\n",
       " 13: '교육',\n",
       " 14: '생활',\n",
       " 15: '기부•후원',\n",
       " 16: '경조사비',\n",
       " 17: '선물',\n",
       " 18: '기타',\n",
       " 19: 'ATM출금',\n",
       " 20: '이체',\n",
       " 21: '급여',\n",
       " 22: '카드대급',\n",
       " 23: '저축•투자',\n",
       " 24: '후불결제대금'}"
      ]
     },
     "execution_count": 6,
     "metadata": {},
     "output_type": "execute_result"
    }
   ],
   "source": [
    "dict(cate_tup)"
   ]
  },
  {
   "cell_type": "code",
   "execution_count": 11,
   "id": "14662f90",
   "metadata": {},
   "outputs": [
    {
     "data": {
      "text/plain": [
       "1"
      ]
     },
     "execution_count": 11,
     "metadata": {},
     "output_type": "execute_result"
    }
   ],
   "source": [
    "dict(map(reversed, cate_tup)).get('식비')"
   ]
  },
  {
   "cell_type": "code",
   "execution_count": 20,
   "id": "09e84c3d",
   "metadata": {},
   "outputs": [
    {
     "data": {
      "text/plain": [
       "[('체크카드',)]"
      ]
     },
     "execution_count": 20,
     "metadata": {},
     "output_type": "execute_result"
    }
   ],
   "source": [
    "query = \"\"\"SELECT PAYMENTS_ID, PAYMENTS_TYPE, PAYMENTS_NAME, PAYMENTS_MAIN FROM PAYMENTS\"\"\"\n",
    "query = \"\"\"SELECT DISTINCT PAYMENTS_TYPE FROM PAYMENTS\"\"\"\n",
    "cursor.execute(query)\n",
    "cursor.fetchall()"
   ]
  },
  {
   "cell_type": "code",
   "execution_count": 18,
   "id": "0f8ad9ed",
   "metadata": {},
   "outputs": [],
   "source": [
    "cursor.execute(\"COMMIT\")"
   ]
  },
  {
   "cell_type": "code",
   "execution_count": 21,
   "id": "d5df4746",
   "metadata": {},
   "outputs": [],
   "source": [
    "query = \"\"\"ALTER TABLE public.\"transaction\" ALTER COLUMN payments DROP NOT NULL;\"\"\"\n",
    "cursor.execute(query)"
   ]
  },
  {
   "cell_type": "code",
   "execution_count": 22,
   "id": "f84a2388",
   "metadata": {},
   "outputs": [],
   "source": [
    "cursor.execute(\"\"\"COMMIT\"\"\")"
   ]
  },
  {
   "cell_type": "code",
   "execution_count": null,
   "id": "d99dd141",
   "metadata": {},
   "outputs": [],
   "source": []
  }
 ],
 "metadata": {
  "kernelspec": {
   "display_name": "ledger",
   "language": "python",
   "name": "ledger"
  },
  "language_info": {
   "codemirror_mode": {
    "name": "ipython",
    "version": 3
   },
   "file_extension": ".py",
   "mimetype": "text/x-python",
   "name": "python",
   "nbconvert_exporter": "python",
   "pygments_lexer": "ipython3",
   "version": "3.9.7"
  }
 },
 "nbformat": 4,
 "nbformat_minor": 5
}
