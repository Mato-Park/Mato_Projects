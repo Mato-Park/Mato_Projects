{
 "cells": [
  {
   "cell_type": "code",
   "execution_count": 1,
   "id": "84a70fea",
   "metadata": {},
   "outputs": [],
   "source": [
    "import psycopg2"
   ]
  },
  {
   "cell_type": "code",
   "execution_count": 17,
   "id": "142818f7",
   "metadata": {},
   "outputs": [],
   "source": [
    "db = psycopg2.connect(host = 'localhost', dbname = 'test', user = 'mato', port = 5432)"
   ]
  },
  {
   "cell_type": "code",
   "execution_count": 18,
   "id": "ffab0a41",
   "metadata": {},
   "outputs": [],
   "source": [
    "cursor = db.cursor()"
   ]
  },
  {
   "cell_type": "code",
   "execution_count": 23,
   "id": "facb355c",
   "metadata": {},
   "outputs": [],
   "source": [
    "def postgre_exe(query):\n",
    "    cursor.execute(query)\n",
    "    cursor.execute(\"COMMIT\")"
   ]
  },
  {
   "cell_type": "code",
   "execution_count": 19,
   "id": "ff800f4d",
   "metadata": {},
   "outputs": [],
   "source": [
    "query = \"\"\"CREATE TYPE week AS ENUM ('Mon', 'Tue', 'Wed', 'Thu', 'Fri', 'Sat', 'Sun')\"\"\"\n",
    "cursor.execute(query)\n"
   ]
  },
  {
   "cell_type": "code",
   "execution_count": 20,
   "id": "2b2b1efe",
   "metadata": {},
   "outputs": [],
   "source": [
    "query = \"\"\"CREATE TABLE TRANSACTION (TRANS_ID serial PRIMARY KEY NOT NULL, TRANS_DATE DATE NOT NULL, TRANS_TIME TIME NOT NULL, DAY week NOT NULL,\n",
    "    TYPE INTEGER NOT NULL, CATEGORY INTEGER NOT NULL, AMOUNTS INTEGER NOT NULL, MEMO VARCHAR(25), PLACE VARCHAR(25),\n",
    "    PAYMENTS INTEGER NOT NULL, USER_ID INTEGER NOT NULL);\"\"\"\n",
    "\n",
    "cursor.execute(query)"
   ]
  },
  {
   "cell_type": "code",
   "execution_count": 21,
   "id": "6f27c9fa",
   "metadata": {},
   "outputs": [],
   "source": [
    "cursor.execute(\"COMMIT\")"
   ]
  },
  {
   "cell_type": "code",
   "execution_count": 22,
   "id": "18fa879f",
   "metadata": {},
   "outputs": [],
   "source": [
    "query = \"\"\"CREATE TABLE TYPE (TYPE_ID INTEGER PRIMARY KEY NOT NULL, TYPE_NAME VARCHAR(20) NOT NULL)\"\"\"\n",
    "cursor.execute(query)\n",
    "cursor.execute(\"COMMIT\")"
   ]
  },
  {
   "cell_type": "code",
   "execution_count": 24,
   "id": "bfde0752",
   "metadata": {},
   "outputs": [],
   "source": [
    "query = \"\"\"INSERT INTO TYPE VALUES (1, '수입'), (2, '소비')\"\"\"\n",
    "postgre_exe(query)\n"
   ]
  },
  {
   "cell_type": "code",
   "execution_count": 25,
   "id": "62727473",
   "metadata": {},
   "outputs": [],
   "source": [
    "query = \"\"\"CREATE TABLE CATEGORY (CATEGORY_ID INTEGER PRIMARY KEY NOT NULL, CATEGORY_NAME VARCHAR(20) NOT NULL)\"\"\"\n",
    "postgre_exe(query)"
   ]
  },
  {
   "cell_type": "code",
   "execution_count": 26,
   "id": "c64639c4",
   "metadata": {},
   "outputs": [],
   "source": [
    "query = \"\"\"INSERT INTO CATEGORY VALUES\n",
    "            (1, '식비'), (2, '카페•간식'), (3, '편의점•마트'), (4, '술•유흥'), (5, '쇼핑'), (6, '취미•여가'), (7, '의료•건강'),\n",
    "            (8, '주거•통신'), (9, '보험•세금•기타금융'), (10, '미용'), (11, '교통•자동차'), (12, '여행•숙박'), (13, '교육'),\n",
    "            (14, '생활'), (15, '기부•후원'), (16, '경조사비'), (17, '선물'), (18, '기타'), (19, 'ATM출금'),\n",
    "            (20, '이체'), (21, '급여'), (22, '카드대급'), (23, '저축•투자'), (24, '후불결제대금')\"\"\"\n",
    "postgre_exe(query)"
   ]
  },
  {
   "cell_type": "code",
   "execution_count": 29,
   "id": "28556790",
   "metadata": {},
   "outputs": [],
   "source": [
    "query = \"\"\"CREATE TABLE PAYMENTS \n",
    "            (PAYMENTS_ID serial PRIMARY KEY NOT NULL, PAYMENTS_TYPE VARCHAR(25) NOT NULL, PAYMENTS_NAME VARCHAR(25),\n",
    "            PAYMENTS_MAIN BOOLEAN DEFAULT false, ACCOUNTS_ID INTEGER, REMARKS VARCHAR(25))\"\"\"\n",
    "postgre_exe(query)"
   ]
  },
  {
   "cell_type": "code",
   "execution_count": 34,
   "id": "e73365ab",
   "metadata": {},
   "outputs": [],
   "source": [
    "query = \"\"\"DROP TABLE ACCOUNTS\"\"\"\n",
    "postgre_exe(query)"
   ]
  },
  {
   "cell_type": "code",
   "execution_count": 35,
   "id": "20077af9",
   "metadata": {},
   "outputs": [],
   "source": [
    "query = \"\"\"CREATE TABLE ACCOUNTS\n",
    "            (ACCOUNTS_ID serial PRIMARY KEY NOT NULL, ACCOUNTS_BANK VARCHAR(25) NOT NULL, ACCOUNTS_NO VARCHAR(25) NOT NULL,\n",
    "            ACCOUNTS_NAME VARCHAR(25) NOT NULL, ACCOUNTS_BALANCE INTEGER DEFAULT 0, ACCOUNTS_MAIN BOOLEAN DEFAULT FALSE)\"\"\"\n",
    "postgre_exe(query)"
   ]
  },
  {
   "cell_type": "code",
   "execution_count": 37,
   "id": "fbe785c1",
   "metadata": {},
   "outputs": [],
   "source": [
    "query = \"\"\"INSERT INTO ACCOUNTS (ACCOUNTS_BANK, ACCOUNTS_NO, ACCOUNTS_NAME, ACCOUNTS_MAIN) VALUES\n",
    "            ('신한은행', '110-321-894780', '주거래/급여통장', true), ('토스뱅크', '1000-1287-1132', '보조통장', false)\"\"\"\n",
    "postgre_exe(query)"
   ]
  },
  {
   "cell_type": "code",
   "execution_count": 40,
   "id": "5cd57749",
   "metadata": {},
   "outputs": [],
   "source": [
    "query = \"\"\"INSERT INTO ACCOUNTS (ACCOUNTS_BANK, ACCOUNTS_NO, ACCOUNTS_NAME, ACCOUNTS_MAIN) VALUES\n",
    "            ('신한은행', '110-324-216766', '생활비/교통비통장', false)\"\"\"\n",
    "postgre_exe(query)"
   ]
  },
  {
   "cell_type": "code",
   "execution_count": 44,
   "id": "22a26aa7",
   "metadata": {},
   "outputs": [],
   "source": [
    "query = \"\"\"INSERT INTO PAYMENTS (PAYMENTS_TYPE, PAYMENTS_NAME, PAYMENTS_MAIN, ACCOUNTS_ID)\n",
    "            VALUES ('체크카드', '신한헤이영', true, 1), ('체크카드', '토스', false, 2)\"\"\"\n",
    "postgre_exe(query)"
   ]
  },
  {
   "cell_type": "code",
   "execution_count": 43,
   "id": "56b3a5cf",
   "metadata": {},
   "outputs": [],
   "source": [
    "query = \"\"\"DELETE FROM PAYMENTS\"\"\"\n",
    "postgre_exe(query)"
   ]
  },
  {
   "cell_type": "code",
   "execution_count": null,
   "id": "437c2250",
   "metadata": {},
   "outputs": [],
   "source": []
  }
 ],
 "metadata": {
  "kernelspec": {
   "display_name": "ledger",
   "language": "python",
   "name": "ledger"
  },
  "language_info": {
   "codemirror_mode": {
    "name": "ipython",
    "version": 3
   },
   "file_extension": ".py",
   "mimetype": "text/x-python",
   "name": "python",
   "nbconvert_exporter": "python",
   "pygments_lexer": "ipython3",
   "version": "3.9.7"
  }
 },
 "nbformat": 4,
 "nbformat_minor": 5
}
