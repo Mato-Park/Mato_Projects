{
 "cells": [
  {
   "cell_type": "markdown",
   "id": "b006c584",
   "metadata": {},
   "source": [
    "# 1000번\n",
    "## Q: 두 정수 A와 B를 입력받은 다음, A+B를 출력하는 프로그램을 작성하시오"
   ]
  },
  {
   "cell_type": "code",
   "execution_count": 9,
   "id": "388a1329",
   "metadata": {},
   "outputs": [
    {
     "name": "stdout",
     "output_type": "stream",
     "text": [
      "1 3\n",
      "4\n"
     ]
    }
   ],
   "source": [
    "A, B = map(int, input().split())\n",
    "print(A + B)"
   ]
  },
  {
   "cell_type": "markdown",
   "id": "eff5a949",
   "metadata": {},
   "source": [
    "1. 입력</br>\n",
    "   두 정수 A와 B를 입력받아야 한다. -> input함수를 사용해 입력값을 받아온다. input 은 사용자가 입력한 모든 값을 텍스트로 저장함</br>\n",
    "   정수로 변환해주기 위해 int함수를 사용</br>\n",
    "   처음에 입력을 어떻게 해야할지 몰라 접근하지 못했음\n",
    "2. 출력</br>\n",
    "  A + B 출력\n"
   ]
  },
  {
   "cell_type": "markdown",
   "id": "10b68fdc",
   "metadata": {},
   "source": [
    "# 1001번\n",
    "### Q: 두 정수 A와 B를 입력받은 다음, A-B를 출력하는 프로그램을 작성하시오"
   ]
  },
  {
   "cell_type": "code",
   "execution_count": null,
   "id": "ec5413ea",
   "metadata": {},
   "outputs": [],
   "source": [
    "A, B = map(int, input().split())\n",
    "print(A - B)"
   ]
  },
  {
   "cell_type": "markdown",
   "id": "d94e053c",
   "metadata": {},
   "source": [
    "1000번 문제와 유사"
   ]
  },
  {
   "cell_type": "markdown",
   "id": "0c6ea569",
   "metadata": {},
   "source": [
    "# 10998번\n",
    "### Q: 두 정수 A와 B를 입력받은 다음, AxB를 출력하는 프로그램을 작성하시오"
   ]
  },
  {
   "cell_type": "code",
   "execution_count": 12,
   "id": "ca551cc9",
   "metadata": {},
   "outputs": [
    {
     "name": "stdout",
     "output_type": "stream",
     "text": [
      "1 3\n",
      "3\n"
     ]
    }
   ],
   "source": [
    "A, B = map(int, input().split())\n",
    "print(A * B)"
   ]
  },
  {
   "cell_type": "markdown",
   "id": "9872ace0",
   "metadata": {},
   "source": [
    "# 1008번\n",
    "### Q: 두 정수 A와 B를 입력받은 다음, A/B를 출력하는 프로그램을 작성하시오"
   ]
  },
  {
   "cell_type": "code",
   "execution_count": 13,
   "id": "ca93c54c",
   "metadata": {},
   "outputs": [
    {
     "name": "stdout",
     "output_type": "stream",
     "text": [
      "1 3\n",
      "0.3333333333333333\n"
     ]
    }
   ],
   "source": [
    "A, B = map(int, input().split())\n",
    "print(A / B)"
   ]
  },
  {
   "cell_type": "markdown",
   "id": "4f4bb1e3",
   "metadata": {},
   "source": [
    "# 사칙연산\n",
    "### Q: 두 정수 A와 B가 주어졌을 때, A+B, A-B, A*B, A/B, A%B를 출력하는 프로그램을 작성하시오"
   ]
  },
  {
   "cell_type": "code",
   "execution_count": 19,
   "id": "a68e061d",
   "metadata": {},
   "outputs": [
    {
     "name": "stdout",
     "output_type": "stream",
     "text": [
      "7 3\n",
      "10\n",
      "4\n",
      "21\n",
      "2\n",
      "1\n"
     ]
    }
   ],
   "source": [
    "A, B = map(int, input().split())\n",
    "print(int(A + B))\n",
    "print(int(A - B))\n",
    "print(int(A * B))\n",
    "print(int(A / B))\n",
    "print(int(A % B))"
   ]
  },
  {
   "cell_type": "markdown",
   "id": "3710a32a",
   "metadata": {},
   "source": [
    "나누기를 정수처리 안해줘서 틀렸음"
   ]
  },
  {
   "cell_type": "code",
   "execution_count": null,
   "id": "7efa4644",
   "metadata": {},
   "outputs": [],
   "source": []
  }
 ],
 "metadata": {
  "kernelspec": {
   "display_name": "baekjoon",
   "language": "python",
   "name": "baekjoon"
  },
  "language_info": {
   "codemirror_mode": {
    "name": "ipython",
    "version": 3
   },
   "file_extension": ".py",
   "mimetype": "text/x-python",
   "name": "python",
   "nbconvert_exporter": "python",
   "pygments_lexer": "ipython3",
   "version": "3.9.6"
  }
 },
 "nbformat": 4,
 "nbformat_minor": 5
}
